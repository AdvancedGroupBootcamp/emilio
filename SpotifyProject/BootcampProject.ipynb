{
  "nbformat": 4,
  "nbformat_minor": 0,
  "metadata": {
    "colab": {
      "provenance": []
    },
    "kernelspec": {
      "name": "python3",
      "display_name": "Python 3"
    },
    "language_info": {
      "name": "python"
    }
  },
  "cells": [
    {
      "cell_type": "markdown",
      "source": [
        "# **Spotify project - Emilio Espinosa Sánchez**"
      ],
      "metadata": {
        "id": "tJk-Cn0Shd24"
      }
    },
    {
      "cell_type": "code",
      "execution_count": 1,
      "metadata": {
        "colab": {
          "base_uri": "https://localhost:8080/"
        },
        "id": "4y3aE69lq31z",
        "outputId": "fb29b4c8-555a-4000-e287-748738ca9c8e"
      },
      "outputs": [
        {
          "output_type": "stream",
          "name": "stdout",
          "text": [
            "Mounted at /content/drive\n"
          ]
        }
      ],
      "source": [
        "from google.colab import drive\n",
        "drive.mount('/content/drive')"
      ]
    },
    {
      "cell_type": "code",
      "source": [
        "import pandas as pd\n",
        "import zipfile\n",
        "\n",
        "zf = zipfile.ZipFile('/content/drive/MyDrive/Bootcamp/spotify_million_playlist_dataset.zip') "
      ],
      "metadata": {
        "id": "y5q9mm4kq7kX"
      },
      "execution_count": 4,
      "outputs": []
    },
    {
      "cell_type": "code",
      "source": [
        "#zf.infolist()"
      ],
      "metadata": {
        "id": "pTb-sYgNrL51"
      },
      "execution_count": 34,
      "outputs": []
    },
    {
      "cell_type": "code",
      "source": [
        "# Import libraries\n",
        "import pandas as pd\n",
        "import zipfile\n",
        "from collections import Counter\n",
        "from collections import defaultdict\n",
        "import json as js\n",
        "\n",
        "# Use spotify million playlist zp file\n",
        "zf = zipfile.ZipFile('/content/drive/MyDrive/Bootcamp/spotify_million_playlist_dataset.zip') # having First.csv zipped file.\n",
        "\n",
        "# Create sets later to be used to count featured and playlist\n",
        "new_dict = defaultdict(set)\n",
        "new_dict2 = defaultdict(set)\n",
        "\n",
        "# Create nested dictionary with selected artists.\n",
        "artists = {\"zaz\" :{\"featured\":0,\"duration\":0,\"playlist\":0}, \"oumou\": {\"featured\":0,\"duration\":0,\"playlist\":0}, \"kendrick lamar\" : {\"featured\":0,\"duration\":0,\"playlist\":0}, \"p!nk\":{\"featured\":0,\"duration\":0,\"playlist\":0},\"muse\":{\"featured\":0,\"duration\":0,\"playlist\":0},\"the killers\":{\"featured\":0,\"duration\":0,\"playlist\":0},\"eminem\":{\"featured\":0,\"duration\":0,\"playlist\":0},\"taylor swift\":{\"featured\":0,\"duration\":0,\"playlist\":0},\"harry styles\":{\"featured\":0,\"duration\":0,\"playlist\":0},\"lara fabian\":{\"featured\":0,\"duration\":0,\"playlist\":0},\"andrea bocelli\":{\"featured\":0,\"duration\":0,\"playlist\":0},\"laurent garnier\":{\"featured\":0,\"duration\":0,\"playlist\":0}}\n",
        "\n",
        "for single_file in zf.namelist(): #iterate throughout the names within the zip file\n",
        "  if(single_file.endswith('json')): #read json files\n",
        "    with zf.open(single_file) as myfile:\n",
        "      data = myfile.read()\n",
        "      file = js.loads(data)\n",
        "    for playlist in file['playlists']: #Playlist dictionary\n",
        "      for track in playlist['tracks']: #Nested dictionary in Playlist one.\n",
        "        if(track['artist_name'].lower() in artists.keys()): #Compare keys and artist's names from dict.\n",
        "          # artists[track['artist_name'].lower()]['featured'] += 1 # it can be used in order to find how many times hes songs were featured with duplicates\n",
        "          new_dict2[track['artist_name'].lower()].add(track['track_uri'])\n",
        "          artists[track['artist_name'].lower()]['duration'] += track['duration_ms']\n",
        "          new_dict[track['artist_name'].lower()].add(playlist['pid'])\n",
        "\n",
        "artists"
      ],
      "metadata": {
        "colab": {
          "base_uri": "https://localhost:8080/"
        },
        "id": "TIt7FcNCA9ad",
        "outputId": "091e4ef2-0eb4-450b-f220-9d0800002211"
      },
      "execution_count": 3,
      "outputs": [
        {
          "output_type": "execute_result",
          "data": {
            "text/plain": [
              "{'zaz': {'featured': 0, 'duration': 210433157, 'playlist': 0},\n",
              " 'oumou': {'featured': 0, 'duration': 0, 'playlist': 0},\n",
              " 'kendrick lamar': {'featured': 0, 'duration': 88807665889, 'playlist': 0},\n",
              " 'p!nk': {'featured': 0, 'duration': 13687355968, 'playlist': 0},\n",
              " 'muse': {'featured': 0, 'duration': 9695579581, 'playlist': 0},\n",
              " 'the killers': {'featured': 0, 'duration': 19321051423, 'playlist': 0},\n",
              " 'eminem': {'featured': 0, 'duration': 83918843596, 'playlist': 0},\n",
              " 'taylor swift': {'featured': 0, 'duration': 24566307386, 'playlist': 0},\n",
              " 'harry styles': {'featured': 0, 'duration': 8607549467, 'playlist': 0},\n",
              " 'lara fabian': {'featured': 0, 'duration': 84009805, 'playlist': 0},\n",
              " 'andrea bocelli': {'featured': 0, 'duration': 1483028573, 'playlist': 0},\n",
              " 'laurent garnier': {'featured': 0, 'duration': 43683311, 'playlist': 0}}"
            ]
          },
          "metadata": {},
          "execution_count": 3
        }
      ]
    },
    {
      "cell_type": "code",
      "source": [
        "# Loop to add into our dictionary our findings\n",
        "for i in artists:\n",
        "  artists[i]['playlist'] += len(new_dict[i])\n",
        "  artists[i]['featured'] += len(new_dict2[i])"
      ],
      "metadata": {
        "id": "-RfBD3NBqe6G"
      },
      "execution_count": 4,
      "outputs": []
    },
    {
      "cell_type": "code",
      "source": [
        "#len(new_dict2['harry styles'])"
      ],
      "metadata": {
        "id": "p6SiXdfr-eGg"
      },
      "execution_count": 56,
      "outputs": []
    },
    {
      "cell_type": "code",
      "source": [
        "artists"
      ],
      "metadata": {
        "colab": {
          "base_uri": "https://localhost:8080/"
        },
        "id": "B8bYiCLV66Pu",
        "outputId": "bd339d45-2e77-49f6-cd13-d91d1f8261db"
      },
      "execution_count": 5,
      "outputs": [
        {
          "output_type": "execute_result",
          "data": {
            "text/plain": [
              "{'zaz': {'featured': 41, 'duration': 210433157, 'playlist': 507},\n",
              " 'oumou': {'featured': 0, 'duration': 0, 'playlist': 0},\n",
              " 'kendrick lamar': {'featured': 128,\n",
              "  'duration': 88807665889,\n",
              "  'playlist': 120901},\n",
              " 'p!nk': {'featured': 144, 'duration': 13687355968, 'playlist': 35536},\n",
              " 'muse': {'featured': 180, 'duration': 9695579581, 'playlist': 18081},\n",
              " 'the killers': {'featured': 106, 'duration': 19321051423, 'playlist': 44540},\n",
              " 'eminem': {'featured': 227, 'duration': 83918843596, 'playlist': 76657},\n",
              " 'taylor swift': {'featured': 203, 'duration': 24566307386, 'playlist': 40696},\n",
              " 'harry styles': {'featured': 12, 'duration': 8607549467, 'playlist': 17910},\n",
              " 'lara fabian': {'featured': 78, 'duration': 84009805, 'playlist': 200},\n",
              " 'andrea bocelli': {'featured': 212, 'duration': 1483028573, 'playlist': 2817},\n",
              " 'laurent garnier': {'featured': 24, 'duration': 43683311, 'playlist': 89}}"
            ]
          },
          "metadata": {},
          "execution_count": 5
        }
      ]
    },
    {
      "cell_type": "code",
      "source": [
        "# creation of dataframe\n",
        "artist_df = pd.DataFrame(artists).T\n",
        "artist_df['duration'] = artist_df['duration']/1000/60\n",
        "artist_df"
      ],
      "metadata": {
        "colab": {
          "base_uri": "https://localhost:8080/",
          "height": 426
        },
        "id": "ZJZHwZN_Kro9",
        "outputId": "00ef7f84-dce8-4b2d-a8a0-185a5e974500"
      },
      "execution_count": 6,
      "outputs": [
        {
          "output_type": "execute_result",
          "data": {
            "text/plain": [
              "                 featured      duration  playlist\n",
              "zaz                    41  3.507219e+03       507\n",
              "oumou                   0  0.000000e+00         0\n",
              "kendrick lamar        128  1.480128e+06    120901\n",
              "p!nk                  144  2.281226e+05     35536\n",
              "muse                  180  1.615930e+05     18081\n",
              "the killers           106  3.220175e+05     44540\n",
              "eminem                227  1.398647e+06     76657\n",
              "taylor swift          203  4.094385e+05     40696\n",
              "harry styles           12  1.434592e+05     17910\n",
              "lara fabian            78  1.400163e+03       200\n",
              "andrea bocelli        212  2.471714e+04      2817\n",
              "laurent garnier        24  7.280552e+02        89"
            ],
            "text/html": [
              "\n",
              "  <div id=\"df-323171a9-4efb-42b1-a8e8-d54b43dc77de\">\n",
              "    <div class=\"colab-df-container\">\n",
              "      <div>\n",
              "<style scoped>\n",
              "    .dataframe tbody tr th:only-of-type {\n",
              "        vertical-align: middle;\n",
              "    }\n",
              "\n",
              "    .dataframe tbody tr th {\n",
              "        vertical-align: top;\n",
              "    }\n",
              "\n",
              "    .dataframe thead th {\n",
              "        text-align: right;\n",
              "    }\n",
              "</style>\n",
              "<table border=\"1\" class=\"dataframe\">\n",
              "  <thead>\n",
              "    <tr style=\"text-align: right;\">\n",
              "      <th></th>\n",
              "      <th>featured</th>\n",
              "      <th>duration</th>\n",
              "      <th>playlist</th>\n",
              "    </tr>\n",
              "  </thead>\n",
              "  <tbody>\n",
              "    <tr>\n",
              "      <th>zaz</th>\n",
              "      <td>41</td>\n",
              "      <td>3.507219e+03</td>\n",
              "      <td>507</td>\n",
              "    </tr>\n",
              "    <tr>\n",
              "      <th>oumou</th>\n",
              "      <td>0</td>\n",
              "      <td>0.000000e+00</td>\n",
              "      <td>0</td>\n",
              "    </tr>\n",
              "    <tr>\n",
              "      <th>kendrick lamar</th>\n",
              "      <td>128</td>\n",
              "      <td>1.480128e+06</td>\n",
              "      <td>120901</td>\n",
              "    </tr>\n",
              "    <tr>\n",
              "      <th>p!nk</th>\n",
              "      <td>144</td>\n",
              "      <td>2.281226e+05</td>\n",
              "      <td>35536</td>\n",
              "    </tr>\n",
              "    <tr>\n",
              "      <th>muse</th>\n",
              "      <td>180</td>\n",
              "      <td>1.615930e+05</td>\n",
              "      <td>18081</td>\n",
              "    </tr>\n",
              "    <tr>\n",
              "      <th>the killers</th>\n",
              "      <td>106</td>\n",
              "      <td>3.220175e+05</td>\n",
              "      <td>44540</td>\n",
              "    </tr>\n",
              "    <tr>\n",
              "      <th>eminem</th>\n",
              "      <td>227</td>\n",
              "      <td>1.398647e+06</td>\n",
              "      <td>76657</td>\n",
              "    </tr>\n",
              "    <tr>\n",
              "      <th>taylor swift</th>\n",
              "      <td>203</td>\n",
              "      <td>4.094385e+05</td>\n",
              "      <td>40696</td>\n",
              "    </tr>\n",
              "    <tr>\n",
              "      <th>harry styles</th>\n",
              "      <td>12</td>\n",
              "      <td>1.434592e+05</td>\n",
              "      <td>17910</td>\n",
              "    </tr>\n",
              "    <tr>\n",
              "      <th>lara fabian</th>\n",
              "      <td>78</td>\n",
              "      <td>1.400163e+03</td>\n",
              "      <td>200</td>\n",
              "    </tr>\n",
              "    <tr>\n",
              "      <th>andrea bocelli</th>\n",
              "      <td>212</td>\n",
              "      <td>2.471714e+04</td>\n",
              "      <td>2817</td>\n",
              "    </tr>\n",
              "    <tr>\n",
              "      <th>laurent garnier</th>\n",
              "      <td>24</td>\n",
              "      <td>7.280552e+02</td>\n",
              "      <td>89</td>\n",
              "    </tr>\n",
              "  </tbody>\n",
              "</table>\n",
              "</div>\n",
              "      <button class=\"colab-df-convert\" onclick=\"convertToInteractive('df-323171a9-4efb-42b1-a8e8-d54b43dc77de')\"\n",
              "              title=\"Convert this dataframe to an interactive table.\"\n",
              "              style=\"display:none;\">\n",
              "        \n",
              "  <svg xmlns=\"http://www.w3.org/2000/svg\" height=\"24px\"viewBox=\"0 0 24 24\"\n",
              "       width=\"24px\">\n",
              "    <path d=\"M0 0h24v24H0V0z\" fill=\"none\"/>\n",
              "    <path d=\"M18.56 5.44l.94 2.06.94-2.06 2.06-.94-2.06-.94-.94-2.06-.94 2.06-2.06.94zm-11 1L8.5 8.5l.94-2.06 2.06-.94-2.06-.94L8.5 2.5l-.94 2.06-2.06.94zm10 10l.94 2.06.94-2.06 2.06-.94-2.06-.94-.94-2.06-.94 2.06-2.06.94z\"/><path d=\"M17.41 7.96l-1.37-1.37c-.4-.4-.92-.59-1.43-.59-.52 0-1.04.2-1.43.59L10.3 9.45l-7.72 7.72c-.78.78-.78 2.05 0 2.83L4 21.41c.39.39.9.59 1.41.59.51 0 1.02-.2 1.41-.59l7.78-7.78 2.81-2.81c.8-.78.8-2.07 0-2.86zM5.41 20L4 18.59l7.72-7.72 1.47 1.35L5.41 20z\"/>\n",
              "  </svg>\n",
              "      </button>\n",
              "      \n",
              "  <style>\n",
              "    .colab-df-container {\n",
              "      display:flex;\n",
              "      flex-wrap:wrap;\n",
              "      gap: 12px;\n",
              "    }\n",
              "\n",
              "    .colab-df-convert {\n",
              "      background-color: #E8F0FE;\n",
              "      border: none;\n",
              "      border-radius: 50%;\n",
              "      cursor: pointer;\n",
              "      display: none;\n",
              "      fill: #1967D2;\n",
              "      height: 32px;\n",
              "      padding: 0 0 0 0;\n",
              "      width: 32px;\n",
              "    }\n",
              "\n",
              "    .colab-df-convert:hover {\n",
              "      background-color: #E2EBFA;\n",
              "      box-shadow: 0px 1px 2px rgba(60, 64, 67, 0.3), 0px 1px 3px 1px rgba(60, 64, 67, 0.15);\n",
              "      fill: #174EA6;\n",
              "    }\n",
              "\n",
              "    [theme=dark] .colab-df-convert {\n",
              "      background-color: #3B4455;\n",
              "      fill: #D2E3FC;\n",
              "    }\n",
              "\n",
              "    [theme=dark] .colab-df-convert:hover {\n",
              "      background-color: #434B5C;\n",
              "      box-shadow: 0px 1px 3px 1px rgba(0, 0, 0, 0.15);\n",
              "      filter: drop-shadow(0px 1px 2px rgba(0, 0, 0, 0.3));\n",
              "      fill: #FFFFFF;\n",
              "    }\n",
              "  </style>\n",
              "\n",
              "      <script>\n",
              "        const buttonEl =\n",
              "          document.querySelector('#df-323171a9-4efb-42b1-a8e8-d54b43dc77de button.colab-df-convert');\n",
              "        buttonEl.style.display =\n",
              "          google.colab.kernel.accessAllowed ? 'block' : 'none';\n",
              "\n",
              "        async function convertToInteractive(key) {\n",
              "          const element = document.querySelector('#df-323171a9-4efb-42b1-a8e8-d54b43dc77de');\n",
              "          const dataTable =\n",
              "            await google.colab.kernel.invokeFunction('convertToInteractive',\n",
              "                                                     [key], {});\n",
              "          if (!dataTable) return;\n",
              "\n",
              "          const docLinkHtml = 'Like what you see? Visit the ' +\n",
              "            '<a target=\"_blank\" href=https://colab.research.google.com/notebooks/data_table.ipynb>data table notebook</a>'\n",
              "            + ' to learn more about interactive tables.';\n",
              "          element.innerHTML = '';\n",
              "          dataTable['output_type'] = 'display_data';\n",
              "          await google.colab.output.renderOutput(dataTable, element);\n",
              "          const docLink = document.createElement('div');\n",
              "          docLink.innerHTML = docLinkHtml;\n",
              "          element.appendChild(docLink);\n",
              "        }\n",
              "      </script>\n",
              "    </div>\n",
              "  </div>\n",
              "  "
            ]
          },
          "metadata": {},
          "execution_count": 6
        }
      ]
    },
    {
      "cell_type": "code",
      "source": [
        "Most_featured = artist_df['featured'].rank(ascending=False)\n",
        "Most_featured"
      ],
      "metadata": {
        "colab": {
          "base_uri": "https://localhost:8080/"
        },
        "id": "bho5Zya6NDsR",
        "outputId": "9ef51cb8-0397-43cb-8c5a-e2e5208f2de7"
      },
      "execution_count": 13,
      "outputs": [
        {
          "output_type": "execute_result",
          "data": {
            "text/plain": [
              "zaz                 9.0\n",
              "oumou              12.0\n",
              "kendrick lamar      6.0\n",
              "p!nk                5.0\n",
              "muse                4.0\n",
              "the killers         7.0\n",
              "eminem              1.0\n",
              "taylor swift        3.0\n",
              "harry styles       11.0\n",
              "lara fabian         8.0\n",
              "andrea bocelli      2.0\n",
              "laurent garnier    10.0\n",
              "Name: featured, dtype: float64"
            ]
          },
          "metadata": {},
          "execution_count": 13
        }
      ]
    },
    {
      "cell_type": "code",
      "source": [
        "Most_duration = artist_df['duration'].rank(ascending=False)\n",
        "Most_duration"
      ],
      "metadata": {
        "colab": {
          "base_uri": "https://localhost:8080/"
        },
        "id": "-mSL3BVhmIFl",
        "outputId": "d0eaaf6e-7884-48fe-8c75-466c6ce44e46"
      },
      "execution_count": 14,
      "outputs": [
        {
          "output_type": "execute_result",
          "data": {
            "text/plain": [
              "zaz                 9.0\n",
              "oumou              12.0\n",
              "kendrick lamar      1.0\n",
              "p!nk                5.0\n",
              "muse                6.0\n",
              "the killers         4.0\n",
              "eminem              2.0\n",
              "taylor swift        3.0\n",
              "harry styles        7.0\n",
              "lara fabian        10.0\n",
              "andrea bocelli      8.0\n",
              "laurent garnier    11.0\n",
              "Name: duration, dtype: float64"
            ]
          },
          "metadata": {},
          "execution_count": 14
        }
      ]
    },
    {
      "cell_type": "code",
      "source": [
        "Most_playlists = artist_df['playlist'].rank(ascending=False)\n",
        "Most_playlists"
      ],
      "metadata": {
        "colab": {
          "base_uri": "https://localhost:8080/"
        },
        "id": "HDfYflHLmAPx",
        "outputId": "272202b4-bb62-47ed-9493-f17cb8ae68b9"
      },
      "execution_count": 15,
      "outputs": [
        {
          "output_type": "execute_result",
          "data": {
            "text/plain": [
              "zaz                 9.0\n",
              "oumou              12.0\n",
              "kendrick lamar      1.0\n",
              "p!nk                5.0\n",
              "muse                6.0\n",
              "the killers         3.0\n",
              "eminem              2.0\n",
              "taylor swift        4.0\n",
              "harry styles        7.0\n",
              "lara fabian        10.0\n",
              "andrea bocelli      8.0\n",
              "laurent garnier    11.0\n",
              "Name: playlist, dtype: float64"
            ]
          },
          "metadata": {},
          "execution_count": 15
        }
      ]
    },
    {
      "cell_type": "code",
      "source": [
        "#Findings of question 1\n",
        "print(\"The artist with the most song is: \",artist_df['featured'].idxmax(),\" with \", artist_df['featured'].max(), \" songs.\")\n",
        "print(\"The artist with the heard time: \",artist_df['duration'].idxmax(),\" with \", artist_df['duration'].max(), \" ms.\")\n",
        "print(\"The artist with songs in the most playlists is: \",artist_df['playlist'].idxmax(),\" with \", artist_df['playlist'].max(), \" playlist.\")"
      ],
      "metadata": {
        "colab": {
          "base_uri": "https://localhost:8080/"
        },
        "id": "PHT0PYDfNB_Y",
        "outputId": "0306b3f3-8625-465a-f092-bff8cb769a56"
      },
      "execution_count": 7,
      "outputs": [
        {
          "output_type": "stream",
          "name": "stdout",
          "text": [
            "The artist with the most song is:  eminem  with  227  songs.\n",
            "The artist with the heard time:  kendrick lamar  with  1480127.7648166667  ms.\n",
            "The artist with songs in the most playlists is:  kendrick lamar  with  120901  playlist.\n"
          ]
        }
      ]
    },
    {
      "cell_type": "code",
      "source": [
        "# Question 2\n",
        "\n",
        "#intersection, deepdiff, filecmp"
      ],
      "metadata": {
        "id": "zj298DYak2yb"
      },
      "execution_count": null,
      "outputs": []
    }
  ]
}