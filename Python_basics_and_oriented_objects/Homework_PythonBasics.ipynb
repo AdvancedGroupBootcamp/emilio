{
 "cells": [
  {
   "cell_type": "markdown",
   "id": "89a5f36d",
   "metadata": {},
   "source": [
    "# Homework Python Basics"
   ]
  },
  {
   "cell_type": "markdown",
   "id": "78354e98",
   "metadata": {},
   "source": [
    "##### Emilio Espinosa S."
   ]
  },
  {
   "cell_type": "code",
   "execution_count": 1,
   "id": "3fd979e2",
   "metadata": {},
   "outputs": [],
   "source": [
    "#Import libraries into workspace\n",
    "import pandas as pd\n",
    "import numpy as np\n",
    "import datetime\n",
    "import random\n",
    "from datetime import datetime\n",
    "from datetime import date"
   ]
  },
  {
   "cell_type": "code",
   "execution_count": 2,
   "id": "79053df6",
   "metadata": {},
   "outputs": [],
   "source": [
    "#Ceiba is a mexican startup that looks to take care of the senior population in Guadalajara. The platform has\n",
    "#services and products and it starts with a system of memberships costing 80 (Elite) and 35 (basica) euros.\n",
    "class Ceiba():\n",
    "    def __init__(self, registration_form):\n",
    "        self.registration_form = registration_form\n",
    "        self.gender = None\n",
    "        self.name = None\n",
    "        self.birthdate = None\n",
    "        self.age = None\n",
    "        self.address = None\n",
    "        self.membership_type = None\n",
    "        self.membership_price = 0\n",
    "        self.membership_years = 1\n",
    "        self.membership_times_used = 0\n",
    "        #Fixed cost\n",
    "        self.cost_per_use = 25\n",
    "  \n",
    "    #Extract certain data from informatio given.\n",
    "    def data_extracting(self):\n",
    "        self.name = self.registration_form.split(' ')[1]\n",
    "        self.gender = 'M' if self.registration_form.split(' ')[0] == 'Sr' else 'F'\n",
    "        self.birthdate = self.registration_form.split('-')[1].strip()\n",
    "        self.address = self.registration_form.split('-')[2].strip()\n",
    "    \n",
    "    #Recognize type of membership\n",
    "    def data_featuring(self):\n",
    "        self.membership_type = self.registration_form.split('-')[-1]\n",
    "    \n",
    "    #Clean data\n",
    "    def get_data_cleaned(self):\n",
    "        return{\n",
    "            'name': self.name,\n",
    "            'gender': self.gender,\n",
    "            'birthdate': self.birthdate,\n",
    "            'age': self.age,\n",
    "            'address': self.address,\n",
    "            'membership_price':self.membership_price,\n",
    "            'membership_years':self.membership_years,\n",
    "            'membership_times_used':self.membership_times_used,\n",
    "            'cost_per_use':self.cost_per_use,\n",
    "        }\n",
    "    \n",
    "    #Set membership prices depending on type of membership\n",
    "    def set_membership_price(self, new_price):\n",
    "        if new_price == ' Elite':\n",
    "            self.membership_price = 80\n",
    "        else:\n",
    "            self.membership_price = 35\n",
    "    \n",
    "    #Set membership years\n",
    "    def set_membership_years(self, new_price):\n",
    "        self.membership_years = new_price\n",
    "    \n",
    "    #Set times used any service\n",
    "    def has_used_membership(self):\n",
    "        self.membership_times_used = random.randint(1,5)\n",
    "    \n",
    "    #Calculate age given\n",
    "    def calculateAge(self):\n",
    "        fecha = datetime.strptime(self.birthdate,'%Y/%m/%d')\n",
    "        today = date.today()\n",
    "        self.age = today.year - fecha.year - ((today.month, today.day) < (fecha.month, fecha.day))\n",
    "        \n",
    "     \n",
    "\n"
   ]
  },
  {
   "cell_type": "code",
   "execution_count": 3,
   "id": "1609a7ac",
   "metadata": {},
   "outputs": [],
   "source": [
    "#Basic data from clients\n",
    "senior_lopez = Ceiba(\n",
    "    registration_form = 'Sr Lopez - 1945/12/12 - David H Lawrence 5142 - Elite'\n",
    ")\n",
    "senior_Perez = Ceiba(\n",
    "    registration_form = 'Sr Perez - 1940/05/05 - Av. Patria 4510 - Basica'\n",
    ")\n",
    "senior_Gonzalez = Ceiba(\n",
    "    registration_form = 'Sra Gonzalez - 1935/03/03 - Av. Lopez Mateos 3478 - Elite'\n",
    ")\n"
   ]
  },
  {
   "cell_type": "code",
   "execution_count": 4,
   "id": "5fc5b6fe",
   "metadata": {},
   "outputs": [
    {
     "name": "stdout",
     "output_type": "stream",
     "text": [
      "How many years have you been a member? 3\n"
     ]
    }
   ],
   "source": [
    "#Day to day business\n",
    "senior_lopez.registration_form\n",
    "senior_lopez.data_extracting()\n",
    "senior_lopez.data_featuring()\n",
    "senior_lopez.set_membership_price(senior_lopez.membership_type)\n",
    "senior_lopez.set_membership_years(int(input(\"How many years have you been a member? \")))\n",
    "senior_lopez.has_used_membership()\n",
    "senior_lopez.calculateAge()"
   ]
  },
  {
   "cell_type": "code",
   "execution_count": 5,
   "id": "3a2dbc6d",
   "metadata": {},
   "outputs": [
    {
     "name": "stdout",
     "output_type": "stream",
     "text": [
      "How many years have you been a member? 2\n"
     ]
    }
   ],
   "source": [
    "senior_Perez.registration_form\n",
    "senior_Perez.data_extracting()\n",
    "senior_Perez.data_featuring()\n",
    "senior_Perez.set_membership_price(senior_Perez.membership_type)\n",
    "senior_Perez.set_membership_years(int(input(\"How many years have you been a member? \")))\n",
    "senior_Perez.has_used_membership()\n",
    "senior_Perez.calculateAge()"
   ]
  },
  {
   "cell_type": "code",
   "execution_count": 6,
   "id": "0550bb48",
   "metadata": {},
   "outputs": [
    {
     "name": "stdout",
     "output_type": "stream",
     "text": [
      "How many years have you been a member? 1\n"
     ]
    }
   ],
   "source": [
    "senior_Gonzalez.registration_form\n",
    "senior_Gonzalez.data_extracting()\n",
    "senior_Gonzalez.data_featuring()\n",
    "senior_Gonzalez.set_membership_price(senior_Gonzalez.membership_type)\n",
    "senior_Gonzalez.set_membership_years(int(input(\"How many years have you been a member? \")))\n",
    "senior_Gonzalez.has_used_membership()\n",
    "senior_Gonzalez.calculateAge()"
   ]
  },
  {
   "cell_type": "code",
   "execution_count": 7,
   "id": "75c26f90",
   "metadata": {},
   "outputs": [
    {
     "data": {
      "text/html": [
       "<div>\n",
       "<style scoped>\n",
       "    .dataframe tbody tr th:only-of-type {\n",
       "        vertical-align: middle;\n",
       "    }\n",
       "\n",
       "    .dataframe tbody tr th {\n",
       "        vertical-align: top;\n",
       "    }\n",
       "\n",
       "    .dataframe thead th {\n",
       "        text-align: right;\n",
       "    }\n",
       "</style>\n",
       "<table border=\"1\" class=\"dataframe\">\n",
       "  <thead>\n",
       "    <tr style=\"text-align: right;\">\n",
       "      <th></th>\n",
       "      <th>name</th>\n",
       "      <th>gender</th>\n",
       "      <th>birthdate</th>\n",
       "      <th>age</th>\n",
       "      <th>address</th>\n",
       "      <th>membership_price</th>\n",
       "      <th>membership_years</th>\n",
       "      <th>membership_times_used</th>\n",
       "      <th>cost_per_use</th>\n",
       "    </tr>\n",
       "  </thead>\n",
       "  <tbody>\n",
       "    <tr>\n",
       "      <th>0</th>\n",
       "      <td>Lopez</td>\n",
       "      <td>M</td>\n",
       "      <td>1945/12/12</td>\n",
       "      <td>76</td>\n",
       "      <td>David H Lawrence 5142</td>\n",
       "      <td>80</td>\n",
       "      <td>3</td>\n",
       "      <td>1</td>\n",
       "      <td>25</td>\n",
       "    </tr>\n",
       "    <tr>\n",
       "      <th>1</th>\n",
       "      <td>Perez</td>\n",
       "      <td>M</td>\n",
       "      <td>1940/05/05</td>\n",
       "      <td>82</td>\n",
       "      <td>Av. Patria 4510</td>\n",
       "      <td>35</td>\n",
       "      <td>2</td>\n",
       "      <td>4</td>\n",
       "      <td>25</td>\n",
       "    </tr>\n",
       "    <tr>\n",
       "      <th>2</th>\n",
       "      <td>Gonzalez</td>\n",
       "      <td>F</td>\n",
       "      <td>1935/03/03</td>\n",
       "      <td>87</td>\n",
       "      <td>Av. Lopez Mateos 3478</td>\n",
       "      <td>80</td>\n",
       "      <td>1</td>\n",
       "      <td>2</td>\n",
       "      <td>25</td>\n",
       "    </tr>\n",
       "  </tbody>\n",
       "</table>\n",
       "</div>"
      ],
      "text/plain": [
       "       name gender   birthdate  age                address  membership_price  \\\n",
       "0     Lopez      M  1945/12/12   76  David H Lawrence 5142                80   \n",
       "1     Perez      M  1940/05/05   82        Av. Patria 4510                35   \n",
       "2  Gonzalez      F  1935/03/03   87  Av. Lopez Mateos 3478                80   \n",
       "\n",
       "   membership_years  membership_times_used  cost_per_use  \n",
       "0                 3                      1            25  \n",
       "1                 2                      4            25  \n",
       "2                 1                      2            25  "
      ]
     },
     "execution_count": 7,
     "metadata": {},
     "output_type": "execute_result"
    }
   ],
   "source": [
    "#Summary of members of the community\n",
    "senior_community = pd.DataFrame([senior_lopez.get_data_cleaned(),\n",
    "                                senior_Perez.get_data_cleaned(),\n",
    "                                senior_Gonzalez.get_data_cleaned()])\n",
    "senior_community"
   ]
  },
  {
   "cell_type": "code",
   "execution_count": 8,
   "id": "62ccc5d8",
   "metadata": {},
   "outputs": [
    {
     "data": {
      "text/html": [
       "<div>\n",
       "<style scoped>\n",
       "    .dataframe tbody tr th:only-of-type {\n",
       "        vertical-align: middle;\n",
       "    }\n",
       "\n",
       "    .dataframe tbody tr th {\n",
       "        vertical-align: top;\n",
       "    }\n",
       "\n",
       "    .dataframe thead th {\n",
       "        text-align: right;\n",
       "    }\n",
       "</style>\n",
       "<table border=\"1\" class=\"dataframe\">\n",
       "  <thead>\n",
       "    <tr style=\"text-align: right;\">\n",
       "      <th></th>\n",
       "      <th>name</th>\n",
       "      <th>gender</th>\n",
       "      <th>birthdate</th>\n",
       "      <th>age</th>\n",
       "      <th>address</th>\n",
       "      <th>membership_price</th>\n",
       "      <th>membership_years</th>\n",
       "      <th>membership_times_used</th>\n",
       "      <th>cost_per_use</th>\n",
       "      <th>Income</th>\n",
       "    </tr>\n",
       "  </thead>\n",
       "  <tbody>\n",
       "    <tr>\n",
       "      <th>0</th>\n",
       "      <td>Lopez</td>\n",
       "      <td>M</td>\n",
       "      <td>1945/12/12</td>\n",
       "      <td>76</td>\n",
       "      <td>David H Lawrence 5142</td>\n",
       "      <td>80</td>\n",
       "      <td>3</td>\n",
       "      <td>1</td>\n",
       "      <td>25</td>\n",
       "      <td>265</td>\n",
       "    </tr>\n",
       "    <tr>\n",
       "      <th>1</th>\n",
       "      <td>Perez</td>\n",
       "      <td>M</td>\n",
       "      <td>1940/05/05</td>\n",
       "      <td>82</td>\n",
       "      <td>Av. Patria 4510</td>\n",
       "      <td>35</td>\n",
       "      <td>2</td>\n",
       "      <td>4</td>\n",
       "      <td>25</td>\n",
       "      <td>170</td>\n",
       "    </tr>\n",
       "    <tr>\n",
       "      <th>2</th>\n",
       "      <td>Gonzalez</td>\n",
       "      <td>F</td>\n",
       "      <td>1935/03/03</td>\n",
       "      <td>87</td>\n",
       "      <td>Av. Lopez Mateos 3478</td>\n",
       "      <td>80</td>\n",
       "      <td>1</td>\n",
       "      <td>2</td>\n",
       "      <td>25</td>\n",
       "      <td>130</td>\n",
       "    </tr>\n",
       "  </tbody>\n",
       "</table>\n",
       "</div>"
      ],
      "text/plain": [
       "       name gender   birthdate  age                address  membership_price  \\\n",
       "0     Lopez      M  1945/12/12   76  David H Lawrence 5142                80   \n",
       "1     Perez      M  1940/05/05   82        Av. Patria 4510                35   \n",
       "2  Gonzalez      F  1935/03/03   87  Av. Lopez Mateos 3478                80   \n",
       "\n",
       "   membership_years  membership_times_used  cost_per_use  Income  \n",
       "0                 3                      1            25     265  \n",
       "1                 2                      4            25     170  \n",
       "2                 1                      2            25     130  "
      ]
     },
     "execution_count": 8,
     "metadata": {},
     "output_type": "execute_result"
    }
   ],
   "source": [
    "#Ceiba's income per client\n",
    "senior_community[\"Income\"]=senior_community[\"membership_price\"]*senior_community[\"membership_years\"]+senior_community[\"membership_times_used\"]*senior_community[\"cost_per_use\"]\n",
    "senior_community"
   ]
  },
  {
   "cell_type": "code",
   "execution_count": 9,
   "id": "4cfae2b8",
   "metadata": {},
   "outputs": [
    {
     "name": "stdout",
     "output_type": "stream",
     "text": [
      "Ceiba's income is $ 565\n"
     ]
    }
   ],
   "source": [
    "#Ceiba's brute income\n",
    "Ceiba_income = senior_community[\"Income\"].sum()\n",
    "print(\"Ceiba's income is $\",Ceiba_income)"
   ]
  },
  {
   "cell_type": "code",
   "execution_count": null,
   "id": "494ccb37",
   "metadata": {},
   "outputs": [],
   "source": []
  }
 ],
 "metadata": {
  "kernelspec": {
   "display_name": "Python 3 (ipykernel)",
   "language": "python",
   "name": "python3"
  },
  "language_info": {
   "codemirror_mode": {
    "name": "ipython",
    "version": 3
   },
   "file_extension": ".py",
   "mimetype": "text/x-python",
   "name": "python",
   "nbconvert_exporter": "python",
   "pygments_lexer": "ipython3",
   "version": "3.9.12"
  }
 },
 "nbformat": 4,
 "nbformat_minor": 5
}
